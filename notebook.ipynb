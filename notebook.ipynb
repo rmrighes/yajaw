{
 "cells": [
  {
   "cell_type": "code",
   "execution_count": 1,
   "metadata": {},
   "outputs": [],
   "source": [
    "from yajaw import jira"
   ]
  },
  {
   "cell_type": "code",
   "execution_count": null,
   "metadata": {},
   "outputs": [],
   "source": [
    "projs = jira.fetch_all_projects()\n",
    "projs = sorted(projs, key=lambda proj: proj['key'])"
   ]
  },
  {
   "cell_type": "code",
   "execution_count": null,
   "metadata": {},
   "outputs": [],
   "source": [
    "for proj in projs:\n",
    "    print(f\"{proj['key']} -- {proj['name']}\")"
   ]
  },
  {
   "cell_type": "code",
   "execution_count": null,
   "metadata": {},
   "outputs": [],
   "source": [
    "key = input()\n",
    "issue = jira.fetch_issue(key)\n",
    "print(f\"{issue['key']} -- {issue['fields']['summary']}\")"
   ]
  }
 ],
 "metadata": {
  "kernelspec": {
   "display_name": "yajaw",
   "language": "python",
   "name": "python3"
  },
  "language_info": {
   "codemirror_mode": {
    "name": "ipython",
    "version": 3
   },
   "file_extension": ".py",
   "mimetype": "text/x-python",
   "name": "python",
   "nbconvert_exporter": "python",
   "pygments_lexer": "ipython3",
   "version": "3.12.1"
  }
 },
 "nbformat": 4,
 "nbformat_minor": 2
}
